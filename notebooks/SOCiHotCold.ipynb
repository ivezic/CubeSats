{
 "cells": [
  {
   "cell_type": "code",
   "execution_count": 336,
   "metadata": {},
   "outputs": [],
   "source": [
    "import os \n",
    "import sys\n",
    "import numpy as np \n",
    "import pandas as pd\n",
    "import matplotlib.pyplot as plt\n",
    "import matplotlib.patches as patches\n",
    "from astropy.table import Table\n",
    "from astroML.filters import savitzky_golay, wiener_filter\n",
    "%matplotlib inline"
   ]
  },
  {
   "cell_type": "code",
   "execution_count": 377,
   "metadata": {},
   "outputs": [
    {
     "name": "stdout",
     "output_type": "stream",
     "text": [
      "The autoreload extension is already loaded. To reload it, use:\n",
      "  %reload_ext autoreload\n"
     ]
    }
   ],
   "source": [
    "## automatically reload any modules read below that might have changed (e.g. plots)\n",
    "%load_ext autoreload\n",
    "%autoreload 2\n",
    "# importing ZI tools for thermal analysis: \n",
    "import sputnikTools as s "
   ]
  },
  {
   "cell_type": "code",
   "execution_count": 338,
   "metadata": {},
   "outputs": [],
   "source": [
    "## specifications for SOC-i from Boone Tate based on CAD model\n",
    "def getInputParamsSOCi(SOCi=\"\"):   \n",
    "    \n",
    "    if (SOCi==\"\"):\n",
    "        SOCi = s.getInputParamsDefault()\n",
    "\n",
    "    # area-weighted surface properties for the UW SOC-i satellite\n",
    "    alphaSOCi, epsSOCi = getSOCiSurfaceParamsDefault()\n",
    "\n",
    "    # surface emissivity\n",
    "    SOCi['alphaS'] = alphaSOCi  \n",
    "    SOCi['epsT'] = epsSOCi      \n",
    "    SOCi['alphaIR'] = SOCi['epsT']  # usual ansatz\n",
    "    \n",
    "    # thermal inertia\n",
    "    SOCi['mass'] = 2.6    # kg (from Boone Tate)\n",
    "    SOCi['C'] = 768.0     # J/kg/K, aluminum\n",
    "    # battery charging/power dissipation\n",
    "    SOCi['etaCell'] = 0.2 # fraction of energy for charging\n",
    "    \n",
    "    # effective areas for absorption\n",
    "    SOCi['etaS'] = 0.21 \n",
    "    SOCi['etaE'] = 0.36\n",
    "    \n",
    "    ## orbit\n",
    "    SOCi['h'] = 550.0     # in km, orbit's altitude\n",
    "    SOCi['PorbMin'] = 96  # orbital period in minutes\n",
    "    SOCi['etaP'] = 0.375# fraction of orbit in eclipse: 36/96 \n",
    "    \n",
    "    return SOCi\n",
    "\n",
    "def getSOCiSurfaceParamsDefault(verbose=False):\n",
    "    ### from Boone Tate\n",
    "    # Sides(2): 64% Solar Panel, 19% Aluminum Panels(outside), 17% aluminum frame rails\n",
    "    # Sides(2): 57% Solar Panel, 26% aluminum panel(outside), 17% aluminum frame rails\n",
    "    # Top: 60% Solar panel, 40% Aluminum frame\n",
    "    # Bottom: 38% aluminum frame, 62% PCB\n",
    "    ## from provided tables\n",
    "    alphaSolPan = 0.92\n",
    "    epsSolPan = 0.85 \n",
    "    CSolPan = 324\n",
    "    alphaAlPanOut = 0.87\n",
    "    epsAlPanOut = 0.81 \n",
    "    CAlPanOut = 801\n",
    "    alphaAlFrameR = 0.86 \n",
    "    epsAlFrameR = 0.86 \n",
    "    CAlFrameR = 768\n",
    "    alphaAlFrame = 0.08 \n",
    "    epsAlFrame = 0.15 \n",
    "    CAlFrame = 768\n",
    "    alphaPCB = 0.81 \n",
    "    epsPCB = 0.90 \n",
    "    CPCB = 1544\n",
    "\n",
    "    # total area in 0.1x0.1 units for Solar Panel\n",
    "    SolPan = 4 * 0.64 + 4 * 0.57 + 1 * 0.6 \n",
    "    AlPanOut = 4 * 0.19 + 4 * 0.26\n",
    "    AlFrameR = 4 * 0.17 + 4 * 0.17 \n",
    "    AlFrame = 1 * 0.4 + 1 * 0.38\n",
    "    PCB = 1 * 0.62\n",
    "    Atot = SolPan + AlPanOut + AlFrameR + AlFrame + PCB\n",
    "    alphaSOCi = alphaSolPan*SolPan + alphaAlPanOut*AlPanOut + alphaAlFrameR*AlFrameR\n",
    "    alphaSOCi = (alphaSOCi + alphaAlFrame*AlFrame + alphaPCB*PCB)/Atot\n",
    "    epsSOCi = epsSolPan*SolPan + epsAlPanOut*AlPanOut + epsAlFrameR*AlFrameR\n",
    "    epsSOCi = (epsSOCi + epsAlFrame*AlFrame + epsPCB*PCB)/Atot\n",
    "    CSOCi = CSolPan*SolPan + CAlPanOut*AlPanOut + CAlFrameR*AlFrameR\n",
    "    CSOCi = (CSOCi + CAlFrame*AlFrame + CPCB*PCB)/Atot\n",
    "    if (verbose):\n",
    "        print(SolPan, AlPanOut, AlFrameR, AlFrame, PCB)\n",
    "\n",
    "    return alphaSOCi, epsSOCi "
   ]
  },
  {
   "cell_type": "code",
   "execution_count": 339,
   "metadata": {},
   "outputs": [],
   "source": [
    "# set default SOCi parameters \n",
    "SOCi = getInputParamsSOCi()\n",
    "coldSOCi = s.getInputParamsCold(getInputParamsSOCi())  \n",
    "hotSOCi = s.getInputParamsHot(getInputParamsSOCi())  \n",
    "alphaSOCi = SOCi['alphaS']\n",
    "epsSOCi = SOCi['epsT']"
   ]
  },
  {
   "cell_type": "code",
   "execution_count": 340,
   "metadata": {},
   "outputs": [
    {
     "name": "stdout",
     "output_type": "stream",
     "text": [
      "1180.9710000000002 21.01532155860408 174.6376194039525 0.0\n"
     ]
    },
    {
     "data": {
      "text/plain": [
       "(1376.6239409625568, 174.6376194039525)"
      ]
     },
     "execution_count": 340,
     "metadata": {},
     "output_type": "execute_result"
    }
   ],
   "source": [
    "hotSOCi['Atot'] = 1.0\n",
    "hotSOCi['etaS'] = 1.0\n",
    "hotSOCi['etaE'] = 1.0\n",
    "hotSOCi['etaCell'] = 0.0\n",
    "Qsun2, Qref2, QIR2, Qdissip2 = s.getAllHeatQ(hotSOCi)\n",
    "print(Qsun2, Qref2, QIR2, Qdissip2)\n",
    "QinSun, QinEclipse = s.getQin(hotSOCi)\n",
    "QinSun, QinEclipse"
   ]
  },
  {
   "cell_type": "code",
   "execution_count": 341,
   "metadata": {},
   "outputs": [
    {
     "name": "stdout",
     "output_type": "stream",
     "text": [
      "1097.9210000000003 144.2049943263533 147.77029334180597 0.0\n"
     ]
    },
    {
     "data": {
      "text/plain": [
       "(1389.8962876681594, 147.77029334180597)"
      ]
     },
     "execution_count": 341,
     "metadata": {},
     "output_type": "execute_result"
    }
   ],
   "source": [
    "coldSOCi['Atot'] = 1.0\n",
    "coldSOCi['etaS'] = 1.0\n",
    "coldSOCi['etaE'] = 1.0\n",
    "coldSOCi['etaCell'] = 0.0\n",
    "Qsun2, Qref2, QIR2, Qdissip2 = s.getAllHeatQ(coldSOCi)\n",
    "print(Qsun2, Qref2, QIR2, Qdissip2)\n",
    "QinSun, QinEclipse = s.getQin(coldSOCi)\n",
    "QinSun, QinEclipse"
   ]
  },
  {
   "cell_type": "code",
   "execution_count": 342,
   "metadata": {},
   "outputs": [],
   "source": [
    "# set default SOCi parameters \n",
    "SOCi = getInputParamsSOCi()\n",
    "coldSOCi = s.getInputParamsCold(getInputParamsSOCi())  \n",
    "hotSOCi = s.getInputParamsHot(getInputParamsSOCi())  \n",
    "alphaSOCi = SOCi['alphaS']\n",
    "epsSOCi = SOCi['epsT']"
   ]
  },
  {
   "cell_type": "code",
   "execution_count": 343,
   "metadata": {},
   "outputs": [
    {
     "name": "stdout",
     "output_type": "stream",
     "text": [
      "\n",
      "SOC-i hot case Sphere, Temperature Extremes\n",
      "-------------------------------------------------------\n",
      "Q (sun, alb, IR, diss): 24.80039100000001 0.7565515761097468 6.28695429854229 5.111388515221951\n",
      "Qsun= 31.843896874652046  Qeclipse= 11.398342813764241\n",
      "Hot Eq. Temp: 290.12K = 16.97℃\n",
      "Cold Eq. Temp: 224.41K = -48.74℃\n",
      "adjusting Tmax= 290.12800008941895 to: Thot= 290.1237666671349\n",
      "doOneCase: temp. range = 289.4641556946817 289.83364290046774\n",
      "     in Celsius: range = 16.314155694681745 16.68364290046776\n",
      "\n",
      "SOC-i cold case Sphere, Temperature Extremes\n",
      "-------------------------------------------------------\n",
      "Q (sun, alb, IR, diss): 23.056341000000007 5.191379795748719 5.319730560305015 3.530965099468591\n",
      "Qsun= 31.44887229637259  Qeclipse= 8.850695659773606\n",
      "Hot Eq. Temp: 289.22K = 16.07℃\n",
      "Cold Eq. Temp: 210.65K = -62.50℃\n",
      "doOneCase: temp. range = 258.98122604261715 274.44572157726554\n",
      "     in Celsius: range = -14.168773957382825 1.2957215772655672\n"
     ]
    }
   ],
   "source": [
    "## hot and cold cases for SOC-i (UW 2U CubeSat)\n",
    "t1 = 'SOC-i hot case'  \n",
    "t2 = 'SOC-i cold case'  \n",
    "\n",
    "# default randomized orientations\n",
    "hotSOCi['etaS'] = 0.21 \n",
    "hotSOCi['etaE'] = 0.36\n",
    "coldSOCi['etaS'] = 0.21 \n",
    "coldSOCi['etaE'] = 0.36\n",
    "\n",
    "verbose = True\n",
    "time, Temps1 = s.doOneCase(t1, alphaSOCi, epsSOCi, hotSOCi, verbose)  \n",
    "time, Temps2 = s.doOneCase(t2, alphaSOCi, epsSOCi, coldSOCi, verbose)  \n",
    "\n",
    "name = 'SOCi-hotVScold'\n",
    "s.TempsPlot(time, Temps2, t2, Temps1, t1, \"\", \"\", name)"
   ]
  },
  {
   "cell_type": "code",
   "execution_count": 344,
   "metadata": {},
   "outputs": [
    {
     "name": "stdout",
     "output_type": "stream",
     "text": [
      "\n",
      "SOC-i hot case, extreme A Sphere, Temperature Extremes\n",
      "-------------------------------------------------------\n",
      "Q (sun, alb, IR, diss): 36.61010100000001 0.798582219226955 6.636229537350196 7.481736643845394\n",
      "Qsun= 44.04491275657716  Qeclipse= 14.11796618119559\n",
      "Hot Eq. Temp: 314.63K = 41.48℃\n",
      "Cold Eq. Temp: 236.74K = -36.41℃\n",
      "doOneCase: temp. range = 313.7734606454903 314.559526678514\n",
      "     in Celsius: range = 40.6234606454903 41.409526678514\n",
      "\n",
      "SOC-i cold case, extreme A Sphere, Temperature Extremes\n",
      "-------------------------------------------------------\n",
      "Q (sun, alb, IR, diss): 10.979210000000004 4.902969807096012 5.024189973621403 1.985272475887002\n",
      "Qsun= 19.71520629518522  Qeclipse= 7.009462449508405\n",
      "Hot Eq. Temp: 257.35K = -15.80℃\n",
      "Cold Eq. Temp: 198.72K = -74.43℃\n",
      "doOneCase: temp. range = 235.51581095675334 244.2541254447327\n",
      "     in Celsius: range = -37.634189043246636 -28.895874555267284\n"
     ]
    }
   ],
   "source": [
    "## hot and cold cases for SOC-i (UW 2U CubeSat)\n",
    "t1 = 'SOC-i hot case, extreme A'  \n",
    "t2 = 'SOC-i cold case, extreme A'  \n",
    "\n",
    "hotSOCi['etaS'] = 0.31 \n",
    "hotSOCi['etaE'] = 0.38\n",
    "coldSOCi['etaS'] = 0.10\n",
    "coldSOCi['etaE'] = 0.34\n",
    "\n",
    "verbose = True\n",
    "time, Temps1 = s.doOneCase(t1, alphaSOCi, epsSOCi, hotSOCi, verbose)  \n",
    "time, Temps2 = s.doOneCase(t2, alphaSOCi, epsSOCi, coldSOCi, verbose)  \n",
    "\n",
    "name = 'SOCi-hotVScoldExtremeA'\n",
    "s.TempsPlot(time, Temps2, t2, Temps1, t1, \"\", \"\", name)"
   ]
  },
  {
   "cell_type": "code",
   "execution_count": 345,
   "metadata": {},
   "outputs": [
    {
     "name": "stdout",
     "output_type": "stream",
     "text": [
      "\n",
      "SOC-i cold case Sphere, Temperature Extremes\n",
      "-------------------------------------------------------\n",
      "Q (sun, alb, IR, diss): 23.056341000000007 5.191379795748719 5.319730560305015 3.530965099468591\n",
      "Qsun= 31.44887229637259  Qeclipse= 8.850695659773606\n",
      "Hot Eq. Temp: 289.22K = 16.07℃\n",
      "Cold Eq. Temp: 210.65K = -62.50℃\n",
      "doOneCase: temp. range = 258.98122604261715 274.44572157726554\n",
      "     in Celsius: range = -14.168773957382825 1.2957215772655672\n",
      "Active control range: -7.029643321464789 6.401408390095526\n",
      "\n",
      "SOC-i cold case Sphere, Temperature Extremes\n",
      "-------------------------------------------------------\n",
      "Q (sun, alb, IR, diss): 23.056341000000007 5.191379795748719 5.319730560305015 3.530965099468591\n",
      "Qsun= 31.44887229637259  Qeclipse= 8.850695659773606\n",
      "Hot Eq. Temp: 289.22K = 16.07℃\n",
      "Cold Eq. Temp: 210.65K = -62.50℃\n",
      "doOneCase: temp. range = 258.98122604261715 274.44572157726554\n",
      "     in Celsius: range = -14.168773957382825 1.2957215772655672\n",
      "Active control range: -10.073203396790575 4.477408632323204\n",
      "\n",
      "SOC-i cold case Sphere, Temperature Extremes\n",
      "-------------------------------------------------------\n",
      "Q (sun, alb, IR, diss): 23.056341000000007 5.191379795748719 5.319730560305015 3.530965099468591\n",
      "Qsun= 31.44887229637259  Qeclipse= 8.850695659773606\n",
      "Hot Eq. Temp: 289.22K = 16.07℃\n",
      "Cold Eq. Temp: 210.65K = -62.50℃\n",
      "doOneCase: temp. range = 258.98122604261715 274.44572157726554\n",
      "     in Celsius: range = -14.168773957382825 1.2957215772655672\n",
      "Active control range: -3.544516602242709 7.702069244726545\n",
      "\n",
      "SOC-i cold case, extreme A Sphere, Temperature Extremes\n",
      "-------------------------------------------------------\n",
      "Q (sun, alb, IR, diss): 10.979210000000004 4.902969807096012 5.024189973621403 1.985272475887002\n",
      "Qsun= 19.71520629518522  Qeclipse= 7.009462449508405\n",
      "Hot Eq. Temp: 257.35K = -15.80℃\n",
      "Cold Eq. Temp: 198.72K = -74.43℃\n",
      "doOneCase: temp. range = 235.51581095675334 244.2541254447327\n",
      "     in Celsius: range = -37.634189043246636 -28.895874555267284\n",
      "Active control range: -19.458280465330887 -10.997055307313929\n"
     ]
    }
   ],
   "source": [
    "## extra heat on\n",
    "t1 = 'SOC-i cold case'  \n",
    "coldSOCi['etaS'] = 0.21 \n",
    "coldSOCi['etaE'] = 0.36\n",
    "Tcritical = 273.15\n",
    "Pcritical = 5.0 \n",
    "label = 'Extra 5 W when T$<$273 K'\n",
    "name = 'SOCi-cold-heated5'\n",
    "\n",
    "# analytic\n",
    "timeA, TempsA = s.doOneCase(t1, alphaSOCi, epsSOCi, coldSOCi, verbose)   \n",
    "# numerical test \n",
    "timeN, TempsN = s.getNumSolution(coldSOCi, 1.01*TempsA[0], Tcritical, Pcritical)\n",
    "# plot\n",
    "s.TempsPlotCompare(timeA, TempsA, timeN, TempsN, t1, label, name) \n",
    "print('Active control range:', np.min(TempsN-273.15), np.max(TempsN-273.15))\n",
    "\n",
    "\n",
    "\n",
    "## extra heat on\n",
    "t2 = 'SOC-i cold case'  \n",
    "coldSOCi['etaS'] = 0.21 \n",
    "coldSOCi['etaE'] = 0.36\n",
    "Tcritical = 273.15\n",
    "Pcritical = 2.0 \n",
    "label = 'Extra 2 W when T$<$273 K'\n",
    "name = 'SOCi-cold-heated2'\n",
    "\n",
    "# analytic\n",
    "timeA, TempsA = s.doOneCase(t2, alphaSOCi, epsSOCi, coldSOCi, verbose)   \n",
    "# numerical test \n",
    "timeN, TempsN = s.getNumSolution(coldSOCi, 1.01*TempsA[0], Tcritical, Pcritical)\n",
    "# plot\n",
    "s.TempsPlotCompare(timeA, TempsA, timeN, TempsN, t2, label, name) \n",
    "print('Active control range:', np.min(TempsN-273.15), np.max(TempsN-273.15))\n",
    "\n",
    "\n",
    "## extra heat on\n",
    "t3 = 'SOC-i cold case'  \n",
    "coldSOCi['etaS'] = 0.21 \n",
    "coldSOCi['etaE'] = 0.36\n",
    "Tcritical = 273.15\n",
    "Pcritical = 10.0 \n",
    "label = 'Extra 10 W when T$<$273 K'\n",
    "name = 'SOCi-cold-heated10'\n",
    "\n",
    "# analytic\n",
    "timeA, TempsA = s.doOneCase(t3, alphaSOCi, epsSOCi, coldSOCi, verbose)   \n",
    "# numerical test \n",
    "timeN, TempsN = s.getNumSolution(coldSOCi, 1.01*TempsA[0], Tcritical, Pcritical)\n",
    "# plot\n",
    "s.TempsPlotCompare(timeA, TempsA, timeN, TempsN, t3, label, name) \n",
    "print('Active control range:', np.min(TempsN-273.15), np.max(TempsN-273.15))\n",
    "\n",
    "\n",
    "\n",
    "t4 = 'SOC-i cold case, extreme A'  \n",
    "coldSOCi['etaS'] = 0.10\n",
    "coldSOCi['etaE'] = 0.34\n",
    "Tcritical = 273.15\n",
    "Pcritical = 5.0 \n",
    "label = 'Extra 5 W when T$<$273 K'\n",
    "name = 'SOCi-cold-extrA-heated5'\n",
    "\n",
    "# analytic\n",
    "timeA, TempsA = s.doOneCase(t4, alphaSOCi, epsSOCi, coldSOCi, verbose)   \n",
    "# numerical test \n",
    "timeN, TempsN = s.getNumSolution(coldSOCi, 1.01*TempsA[0], Tcritical, Pcritical)\n",
    "# plot\n",
    "s.TempsPlotCompare(timeA, TempsA, timeN, TempsN, t4, label, name) \n",
    "print('Active control range:', np.min(TempsN-273.15), np.max(TempsN-273.15))"
   ]
  },
  {
   "cell_type": "code",
   "execution_count": 346,
   "metadata": {},
   "outputs": [
    {
     "data": {
      "text/plain": [
       "{'Fsun': 1322,\n",
       " 'FIR': 220,\n",
       " 'rhoE': 0.25,\n",
       " 'h': 550.0,\n",
       " 'PorbMin': 96,\n",
       " 'etaP': 0.375,\n",
       " 'falb': 0.62,\n",
       " 'fE': 0.8473786384498566,\n",
       " 'Atot': 0.1,\n",
       " 'etaS': 0.1,\n",
       " 'etaE': 0.34,\n",
       " 'alphaS': 0.8305000000000001,\n",
       " 'epsT': 0.7926600000000001,\n",
       " 'alphaIR': 0.7926600000000001,\n",
       " 'mass': 2.6,\n",
       " 'C': 768.0,\n",
       " 'etaCell': 0.2}"
      ]
     },
     "execution_count": 346,
     "metadata": {},
     "output_type": "execute_result"
    }
   ],
   "source": [
    "coldSOCi"
   ]
  },
  {
   "cell_type": "code",
   "execution_count": 347,
   "metadata": {},
   "outputs": [
    {
     "data": {
      "text/plain": [
       "{'Fsun': 1372,\n",
       " 'FIR': 240,\n",
       " 'rhoE': 0.3,\n",
       " 'h': 550.0,\n",
       " 'PorbMin': 96,\n",
       " 'etaP': 0.375,\n",
       " 'falb': 0.62,\n",
       " 'fE': 0.8473786384498566,\n",
       " 'Atot': 0.1,\n",
       " 'etaS': 0.21,\n",
       " 'etaE': 0.36,\n",
       " 'alphaS': 0.8305000000000001,\n",
       " 'epsT': 0.7926600000000001,\n",
       " 'alphaIR': 0.7926600000000001,\n",
       " 'mass': 2.6,\n",
       " 'C': 768.0,\n",
       " 'etaCell': 0.2}"
      ]
     },
     "execution_count": 347,
     "metadata": {},
     "output_type": "execute_result"
    }
   ],
   "source": [
    "SOCi"
   ]
  },
  {
   "cell_type": "code",
   "execution_count": 348,
   "metadata": {},
   "outputs": [
    {
     "data": {
      "text/plain": [
       "{'Fsun': 1422,\n",
       " 'FIR': 260,\n",
       " 'rhoE': 0.35,\n",
       " 'h': 550.0,\n",
       " 'PorbMin': 96,\n",
       " 'etaP': 0.0,\n",
       " 'falb': 0.06,\n",
       " 'fE': 0.8473786384498566,\n",
       " 'Atot': 0.1,\n",
       " 'etaS': 0.31,\n",
       " 'etaE': 0.38,\n",
       " 'alphaS': 0.8305000000000001,\n",
       " 'epsT': 0.7926600000000001,\n",
       " 'alphaIR': 0.7926600000000001,\n",
       " 'mass': 2.6,\n",
       " 'C': 768.0,\n",
       " 'etaCell': 0.2}"
      ]
     },
     "execution_count": 348,
     "metadata": {},
     "output_type": "execute_result"
    }
   ],
   "source": [
    "hotSOCi"
   ]
  },
  {
   "cell_type": "code",
   "execution_count": 349,
   "metadata": {},
   "outputs": [],
   "source": [
    "def plotQs(alpha, Qsun, Qcell):\n",
    "    \n",
    "    fig = plt.figure(figsize=(9, 4))\n",
    "    fig.subplots_adjust(bottom=0.09, left=0.11, right=0.96, top = 0.98, wspace=0.30, hspace=0.3)\n",
    "\n",
    "    ax = fig.add_subplot(1,2,1)\n",
    "    ax.plot(alpha, Qsun['Xp']+Qsun['Xm'], '-g') \n",
    "    ax.plot(alpha, Qsun['Yp']+Qsun['Ym'], '--r') \n",
    "    ax.plot(alpha, Qsun['Zp']+Qsun['Zm'], '-.b') \n",
    "    #ax.plot(alpha, eta, '--k') \n",
    "    #ax.plot(alpha, fac, '--y') \n",
    "    ax.set_xlabel(r'$\\alpha$ (orbit angle)')\n",
    "    ax.set_ylabel(r'Q for non-solar-cell areas (W)')\n",
    "    ax.set_ylim(-0.05,15)\n",
    "\n",
    "    ax = fig.add_subplot(1,2,2)\n",
    "    ax.plot(alpha, Qcell['Xp']+Qcell['Xm'], '-g') \n",
    "    ax.plot(alpha, Qcell['Yp']+Qcell['Xm'], '--r') \n",
    "    ax.plot(alpha, Qcell['Zp']+Qcell['Xm'], '-.b') \n",
    "    #ax.plot(alpha, eta, '--k') \n",
    "    #ax.plot(alpha, fac, '--y') \n",
    "    ax.set_xlabel(r'$\\alpha$ (orbit angle)')\n",
    "    ax.set_ylabel(r'Q for solar cells (W)')\n",
    "    ax.set_ylim(-0.05,15)\n",
    "    plt.show()    \n",
    "\n",
    "    \n",
    "def plotQsAllSides(alpha, Qheat, Qcharge, ymin=0, ymax=40):\n",
    "    \n",
    "    fig = plt.figure(figsize=(9, 4))\n",
    "    fig.subplots_adjust(bottom=0.09, left=0.11, right=0.96, top = 0.98, wspace=0.30, hspace=0.3)\n",
    "\n",
    "    ax = fig.add_subplot(1,2,1)\n",
    "    ax.plot(alpha, Qheat, '-r') \n",
    "    ax.plot(alpha, Qcharge, '--b') \n",
    "    ax.set_xlabel(r'$\\alpha$ (orbit angle)')\n",
    "    ax.set_ylabel(r'Qheat and Pcharge (W)')\n",
    "    ax.set_ylim(ymin, ymax)\n",
    "    plt.show()  "
   ]
  },
  {
   "cell_type": "code",
   "execution_count": 967,
   "metadata": {},
   "outputs": [],
   "source": [
    "# set default SOCi parameters \n",
    "SOCi = getInputParamsSOCi()\n",
    "coldSOCi = s.getInputParamsCold(getInputParamsSOCi())  \n",
    "hotSOCi = s.getInputParamsHot(getInputParamsSOCi())  "
   ]
  },
  {
   "cell_type": "code",
   "execution_count": 968,
   "metadata": {},
   "outputs": [
    {
     "name": "stdout",
     "output_type": "stream",
     "text": [
      "assuming beta=0 sun-synchronous orbit\n"
     ]
    }
   ],
   "source": [
    "cold = True\n",
    "if cold:\n",
    "    # beta=0 orbit\n",
    "    alphaOrbit, fEcl, fAlb, areaS, areaE, etaS, etaE = s.getAreasForOrbitImagingMode(50, beta0=True)\n",
    "    case = coldSOCi\n",
    "else:\n",
    "    # beta=90 orbit\n",
    "    alphaOrbit, fEcl, fAlb, areaS, areaE, etaS, etaE = s.getAreasForOrbitImagingMode(50, beta0=False)\n",
    "    case = hotSOCi\n",
    "realAreaFac, realAlpha, realEps = s.getSOCiRealAreas(SolarCells=False)\n",
    "realAreaFacCells, realAlphaCells, realEpsCells = s.getSOCiRealAreas(SolarCells=True)"
   ]
  },
  {
   "cell_type": "code",
   "execution_count": 969,
   "metadata": {},
   "outputs": [],
   "source": [
    "case = hotSOCi"
   ]
  },
  {
   "cell_type": "code",
   "execution_count": 970,
   "metadata": {},
   "outputs": [
    {
     "name": "stdout",
     "output_type": "stream",
     "text": [
      "etaCell= 0.2\n"
     ]
    }
   ],
   "source": [
    "QsunNotCell = s.getQsunOrbit(case, areaS, realAreaFac, realAlpha, fEcl)\n",
    "QsunSolCell = s.getQsunOrbit(case, areaS, realAreaFacCells, realAlphaCells, fEcl)\n",
    "QrefNotCell = s.getQrefOrbit(case, areaE, realAreaFac, realAlpha, fEcl, fAlb)\n",
    "QrefSolCell = s.getQrefOrbit(case, areaE, realAreaFacCells, realAlphaCells, fEcl, fAlb)\n",
    "QIR = s.getQIROrbit(coldSOCi, areaE, realAreaFac, realEps)\n",
    "etaCell = case['etaCell']  \n",
    "print('etaCell=', etaCell)\n",
    "QheatSol, QheatRef, QheatIR, Qcharge = s.sumQsForAllSides(QsunNotCell, QsunSolCell, QrefNotCell, QrefSolCell, QIR, etaCell)\n",
    "QheatTotal = QheatSol + QheatRef + QheatIR"
   ]
  },
  {
   "cell_type": "code",
   "execution_count": 971,
   "metadata": {},
   "outputs": [
    {
     "data": {
      "image/png": "[encoded data removed]",
      "text/plain": [
       "<Figure size 648x288 with 2 Axes>"
      ]
     },
     "metadata": {
      "needs_background": "light"
     },
     "output_type": "display_data"
    }
   ],
   "source": [
    "# plotQs(alphaOrbit, QsunNotCell, QsunSolCell)\n",
    "# plotQs(alphaOrbit, QrefNotCell, QrefSolCell)\n",
    "plotQs(alphaOrbit, QrefNotCell, QIR) "
   ]
  },
  {
   "cell_type": "code",
   "execution_count": 972,
   "metadata": {},
   "outputs": [
    {
     "data": {
      "image/png": "[encoded data removed]",
      "text/plain": [
       "<Figure size 648x288 with 1 Axes>"
      ]
     },
     "metadata": {
      "needs_background": "light"
     },
     "output_type": "display_data"
    }
   ],
   "source": [
    "plotQsAllSides(alphaOrbit, QheatTotal, Qcharge, 0, 50)"
   ]
  },
  {
   "cell_type": "code",
   "execution_count": 973,
   "metadata": {},
   "outputs": [
    {
     "data": {
      "image/png": "[encoded data removed]",
      "text/plain": [
       "<Figure size 648x288 with 1 Axes>"
      ]
     },
     "metadata": {
      "needs_background": "light"
     },
     "output_type": "display_data"
    }
   ],
   "source": [
    "plotQsAllSides(alphaOrbit, QheatIR, QheatRef, 0, 15)"
   ]
  },
  {
   "cell_type": "code",
   "execution_count": 974,
   "metadata": {},
   "outputs": [
    {
     "name": "stdout",
     "output_type": "stream",
     "text": [
      "after 25 iterations, T tolerance =  -5.7057610604260844e-05 261.17661809483883 285.5546289520754\n"
     ]
    }
   ],
   "source": [
    "time0, Temp0, Q0 = s.getTsolution(alphaOrbit, QheatTotal, case, 273, 0, Niter=25)"
   ]
  },
  {
   "cell_type": "code",
   "execution_count": 975,
   "metadata": {},
   "outputs": [
    {
     "name": "stdout",
     "output_type": "stream",
     "text": [
      "after 25 iterations, T tolerance =  -4.111620631874757e-05 264.1417194182847 287.9889088991094\n"
     ]
    }
   ],
   "source": [
    "time5, Temp5, Q5 = s.getTsolution(alphaOrbit, QheatTotal, case, 273, 3, Niter=25)"
   ]
  },
  {
   "cell_type": "code",
   "execution_count": 954,
   "metadata": {
    "scrolled": true
   },
   "outputs": [
    {
     "name": "stdout",
     "output_type": "stream",
     "text": [
      "made figure figures/PowerTimeOrbitB0sunSeekerTest.png\n"
     ]
    }
   ],
   "source": [
    "#title = 'beta=0 orbit, imaging mode'\n",
    "title = 'beta=0 orbit, sun seeker mode, HOT CASE' \n",
    "#title = 'beta=90 orbit, imaging mode'\n",
    "#outfile = 'B0imaging'\n",
    "# outfile = 'B0sunSeeker'\n",
    "outfile = 'B0sunSeekerTest'\n",
    "#outfile = 'B90imaging'\n",
    "L1= '$P_{battery}$'\n",
    "L2 = '$P_{heat}$ = 0 W'\n",
    "L3 = '$P_{heat}$ = 3 W'\n",
    "#L3 = '$P_{heat}$ = 6 W'\n",
    "s.TempsPowerOrbit(time0, Qcharge, L1, time0, Q0, L2, time5, Q5, L3, outfile, title) "
   ]
  },
  {
   "cell_type": "code",
   "execution_count": 955,
   "metadata": {},
   "outputs": [
    {
     "name": "stdout",
     "output_type": "stream",
     "text": [
      "made figure figures/TempTimeOrbitB0sunSeekerTest.png\n"
     ]
    }
   ],
   "source": [
    "Temp5x = Temp5-0.0\n",
    "s.TempsPlotOrbit(time0, Temp0, L2, time5, Temp5x, L3, \"\", \"\", \"\", outfile, title) "
   ]
  },
  {
   "cell_type": "code",
   "execution_count": 956,
   "metadata": {},
   "outputs": [
    {
     "name": "stdout",
     "output_type": "stream",
     "text": [
      "5.204546606165962 1.7453333333333376\n"
     ]
    }
   ],
   "source": [
    "spentOnHeat = (time0[-1]/60) * (np.mean(Q5)-np.mean(Q0))\n",
    "batteryCharge = (time0[-1]/60) * (np.mean(Qcharge))\n",
    "print(batteryCharge, spentOnHeat)"
   ]
  },
  {
   "cell_type": "code",
   "execution_count": 957,
   "metadata": {},
   "outputs": [],
   "source": [
    "## beta       mode      battery   heater power   heater consumed \n",
    "#                      Whr/orb       W             Whr/orb \n",
    "#   0      imaging      4.04        2.0             3.19   \n",
    "#   0     sun seaker    4.68        5.0             3.57   old thetaE, phiE\n",
    "#   0     sun seaker    4.64        5.0             3.74   deltaTmean = 6.6 C  *plots*  \n",
    "#   0     sun seaker    4.64        5.0             2.70   5W at 268K vs. 273K, Tmean = 4.8 C  \n",
    "#   0     sun seaker    4.64        2.0             1.91   test plots, dTmean = 3.4 C (1W: 1.9C, 1.1 Whr) \n",
    "#   0     sun seaker    5.02        2.0             1.41   beta=45 eclipse, dTmean = 2.4 C \n",
    "#  90  both, cold case  6.68        0.0             0.00   no plots\n",
    "#  90  both, hot case   7.21        0.0             0.00  \n",
    "# new\n",
    "#   0     sun seaker    4.64        0.0             0.00   only 1.34 Whr really charged above 0 C\n",
    "#   0     sun seaker    4.64        3.0             2.62   deltaTmean = 4.7C  *test plots* 2.45 Whr charged\n",
    "#   0     sun seaker    4.64        6.0             4.18   dTmean = 7.4C  *plots* only 3.1Whr really charged \n",
    "# hot case\n",
    "#   0     sun seaker    5.20        0.0             0.00   only 2.99 Whr really charged above 0 C HOTCASE.png\n",
    "#   0     sun seaker    5.20        3.0             1.74   deltaTmean = 2.9C,  3.68 Whr charged\n",
    "#   0     sun seaker    5.20        6.0             2.80   deltaTmean = 4.6C,  4.15 Whr charged\n",
    "# NB\n",
    "# 4 batteries can store 20.8 Whr  \n",
    "# cells generate 6 W when not in eclipse, about 6 Whr per orbit"
   ]
  },
  {
   "cell_type": "code",
   "execution_count": 958,
   "metadata": {},
   "outputs": [
    {
     "name": "stdout",
     "output_type": "stream",
     "text": [
      "2.9121203304798433\n"
     ]
    }
   ],
   "source": [
    "print(np.mean(Temp5-Temp0))"
   ]
  },
  {
   "cell_type": "code",
   "execution_count": 959,
   "metadata": {},
   "outputs": [
    {
     "name": "stdout",
     "output_type": "stream",
     "text": [
      "5.204546606165962\n"
     ]
    }
   ],
   "source": [
    "print((time0[-1]/60) * (np.mean(Qcharge)))"
   ]
  },
  {
   "cell_type": "code",
   "execution_count": 960,
   "metadata": {},
   "outputs": [
    {
     "name": "stdout",
     "output_type": "stream",
     "text": [
      "2.988246757234081\n"
     ]
    }
   ],
   "source": [
    "print((time0[-1]/60) * (np.mean(Qcharge[Temp0>273]))*time0[Temp0>273].size/time0.size)"
   ]
  },
  {
   "cell_type": "code",
   "execution_count": 961,
   "metadata": {},
   "outputs": [
    {
     "name": "stdout",
     "output_type": "stream",
     "text": [
      "3.6756488745517073\n"
     ]
    }
   ],
   "source": [
    "print((time5[-1]/60) * (np.mean(Qcharge[Temp5>273]))*time0[Temp5>273].size/time0.size)"
   ]
  },
  {
   "cell_type": "code",
   "execution_count": 966,
   "metadata": {},
   "outputs": [
    {
     "name": "stdout",
     "output_type": "stream",
     "text": [
      "etaS: 0.2818088518920079 1.1102230246251565e-16\n",
      "etaE: 0.34324781980706826 5.551115123125783e-17\n"
     ]
    }
   ],
   "source": [
    "print('etaS:', np.mean(etaS), np.std(etaS))\n",
    "print('etaE:', np.mean(etaE), np.std(etaE))"
   ]
  },
  {
   "cell_type": "code",
   "execution_count": null,
   "metadata": {},
   "outputs": [],
   "source": []
  }
 ],
 "metadata": {
  "kernelspec": {
   "display_name": "Python 3",
   "language": "python",
   "name": "python3"
  },
  "language_info": {
   "codemirror_mode": {
    "name": "ipython",
    "version": 3
   },
   "file_extension": ".py",
   "mimetype": "text/x-python",
   "name": "python",
   "nbconvert_exporter": "python",
   "pygments_lexer": "ipython3",
   "version": "3.7.4"
  }
 },
 "nbformat": 4,
 "nbformat_minor": 2
}
