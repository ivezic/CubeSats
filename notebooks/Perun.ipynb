{
 "cells": [
  {
   "cell_type": "code",
   "execution_count": 58,
   "metadata": {},
   "outputs": [],
   "source": [
    "import os \n",
    "import sys\n",
    "import numpy as np \n",
    "import pandas as pd\n",
    "import matplotlib.pyplot as plt\n",
    "import matplotlib.patches as patches\n",
    "from astropy.table import Table\n",
    "from astroML.filters import savitzky_golay, wiener_filter\n",
    "%matplotlib inline"
   ]
  },
  {
   "cell_type": "code",
   "execution_count": 59,
   "metadata": {},
   "outputs": [
    {
     "name": "stdout",
     "output_type": "stream",
     "text": [
      "The autoreload extension is already loaded. To reload it, use:\n",
      "  %reload_ext autoreload\n"
     ]
    }
   ],
   "source": [
    "## automatically reload any modules read below that might have changed (e.g. plots)\n",
    "%load_ext autoreload\n",
    "%autoreload 2\n",
    "# importing ZI tools for thermal analysis: \n",
    "import sputnikTools as s "
   ]
  },
  {
   "cell_type": "code",
   "execution_count": 69,
   "metadata": {},
   "outputs": [],
   "source": [
    "## specifications for Perun from Matija Makoter based on CAD model (April 2021)\n",
    "def getInputParamsPerun(Perun=\"\", case=0):   \n",
    "    \n",
    "    if (Perun==\"\"):\n",
    "        Perun = s.getInputParamsDefault()\n",
    "\n",
    "    # area-weighted surface properties for Perun\n",
    "    if case==0:\n",
    "        # original values from Matija Makoter\n",
    "        alphaPerun, epsPerun, areaPerun = getPerunSurfaceParamsDefault()\n",
    "    if case==1:\n",
    "        # change Al frame properties to copper properties \n",
    "        alphaPerun, epsPerun, areaPerun = getPerunSurfaceParamsCopper()\n",
    "\n",
    "    # surface emissivity\n",
    "    Perun['alphaS'] = alphaPerun  \n",
    "    Perun['epsT'] = epsPerun      \n",
    "    Perun['alphaIR'] = Perun['epsT']  # usual ansatz\n",
    "    \n",
    "    # thermal inertia\n",
    "    Perun['mass'] = 2.684    # kg \n",
    "    Perun['C'] = 721.0       # J/kg/K, mass-averaged value\n",
    "    # battery charging/power dissipation\n",
    "    Perun['etaCell'] = 0.2 # fraction of energy for charging\n",
    "    \n",
    "    # effective areas for absorption\n",
    "    Perun['etaS'] = 0.21 \n",
    "    Perun['etaE'] = 0.36\n",
    "    \n",
    "    ## orbit\n",
    "    Perun['h'] = 550.0     # in km, orbit's altitude\n",
    "    Perun['PorbMin'] = 96  # orbital period in minutes\n",
    "    Perun['etaP'] = 0.375# fraction of orbit in eclipse: 36/96 \n",
    "    \n",
    "    return Perun\n",
    "\n",
    "def getPerunSurfaceParamsDefault(verbose=False):\n",
    "    ## optical absorptivity, IR emissivity, area (in m2) and C (in J/kg/K)     \n",
    "\n",
    "    # solar panels\n",
    "    alphaSolPan = 0.92\n",
    "    epsSolPan = 0.85 \n",
    "    AreaSolPan = 0.048772\n",
    "    CSolPan = 324\n",
    "\n",
    "    # ceramics\n",
    "    alphaCer = 0.90\n",
    "    epsCer = 0.90\n",
    "    AreaCer = 0.022201\n",
    "     \n",
    "    # Al frame \n",
    "    alphaAlFrameR = 0.86 \n",
    "    epsAlFrameR = 0.86 \n",
    "    AreaAlFrameR = 0.024926 \n",
    "    CAlFrameR = 768\n",
    "\n",
    "    # copper\n",
    "    alphaCu = 0.30\n",
    "    epsCu = 0.03\n",
    "    AreaCu = 0.003713\n",
    "    \n",
    "    # Kapton foil (S band antenna)\n",
    "    alphaKap = 0.11 \n",
    "    epsKap = 0.33\n",
    "    AreaKap = 0.01066  \n",
    "\n",
    "    # total area in square meters \n",
    "    areaPerun = AreaSolPan + AreaCer + AreaAlFrameR + AreaCu + AreaKap  \n",
    "    alphaPerun = alphaSolPan*AreaSolPan + alphaCer*AreaCer + alphaAlFrameR*AreaAlFrameR\n",
    "    alphaPerun = (alphaPerun + alphaCu*AreaCu + alphaKap*AreaKap)/areaPerun\n",
    "    epsPerun = epsSolPan*AreaSolPan + epsCer*AreaCer + epsAlFrameR*AreaAlFrameR\n",
    "    epsPerun = (epsPerun + epsCu*AreaCu + epsKap*AreaKap)/areaPerun\n",
    "\n",
    "    return alphaPerun, epsPerun, areaPerun\n",
    "\n",
    "\n",
    "def getPerunSurfaceParamsCopper(verbose=False):\n",
    "    ## optical absorptivity, IR emissivity, area (in m2) and C (in J/kg/K)     \n",
    "\n",
    "    # solar panels\n",
    "    alphaSolPan = 0.92\n",
    "    epsSolPan = 0.85 \n",
    "    AreaSolPan = 0.048772\n",
    "    CSolPan = 324\n",
    "\n",
    "    # ceramics\n",
    "    alphaCer = 0.90\n",
    "    epsCer = 0.90\n",
    "    AreaCer = 0.022201\n",
    "     \n",
    "    # Al frame \n",
    "    # to show Cu effects: \n",
    "    #alphaAlFrameR = 0.86 \n",
    "    #epsAlFrameR = 0.86 \n",
    "    alphaAlFrameR = 0.30\n",
    "    epsAlFrameR = 0.03\n",
    "\n",
    "    AreaAlFrameR = 0.024926 \n",
    "    CAlFrameR = 768\n",
    "\n",
    "    # copper\n",
    "    alphaCu = 0.30\n",
    "    epsCu = 0.03\n",
    "    AreaCu = 0.003713\n",
    "    \n",
    "    # Kapton foil (S band antenna)\n",
    "    alphaKap = 0.11 \n",
    "    epsKap = 0.33\n",
    "    AreaKap = 0.01066  \n",
    "\n",
    "    # total area in square meters \n",
    "    areaPerun = AreaSolPan + AreaCer + AreaAlFrameR + AreaCu + AreaKap  \n",
    "    alphaPerun = alphaSolPan*AreaSolPan + alphaCer*AreaCer + alphaAlFrameR*AreaAlFrameR\n",
    "    alphaPerun = (alphaPerun + alphaCu*AreaCu + alphaKap*AreaKap)/areaPerun\n",
    "    epsPerun = epsSolPan*AreaSolPan + epsCer*AreaCer + epsAlFrameR*AreaAlFrameR\n",
    "    epsPerun = (epsPerun + epsCu*AreaCu + epsKap*AreaKap)/areaPerun\n",
    "\n",
    "    return alphaPerun, epsPerun, areaPerun"
   ]
  },
  {
   "cell_type": "code",
   "execution_count": 66,
   "metadata": {},
   "outputs": [
    {
     "name": "stdout",
     "output_type": "stream",
     "text": [
      "0.6766490133488102 0.5968339197620429\n"
     ]
    }
   ],
   "source": [
    "# set default Perun parameters \n",
    "Perun = getInputParamsPerun()\n",
    "coldPerun = s.getInputParamsCold(getInputParamsPerun())  \n",
    "hotPerun = s.getInputParamsHot(getInputParamsPerun())  \n",
    "alphaPerun = Perun['alphaS']\n",
    "epsPerun = Perun['epsT']\n",
    "print(Perun['alphaS'], Perun['epsT'])  # 0.8032320081253627 0.7844480013058618"
   ]
  },
  {
   "cell_type": "code",
   "execution_count": 45,
   "metadata": {},
   "outputs": [
    {
     "name": "stdout",
     "output_type": "stream",
     "text": [
      "\n",
      "Perun hot case (beta=90 orbit) Sphere, Temperature Extremes\n",
      "-------------------------------------------------------\n",
      "Q (sun, alb, IR, diss): 23.986114226639582 0.731711549342613 6.221821126072711 4.943565155196439\n",
      "Qsun= 30.939646902054907  Qeclipse= 11.16538628126915\n",
      "Hot Eq. Temp: 288.79K = 15.64℃\n",
      "Cold Eq. Temp: 223.83K = -49.32℃\n",
      "adjusting Tmax= 288.94067938195263 to: Thot= 288.79275170283637\n",
      "doOneCase: temp. range = 288.28303528629607 288.50395895113354\n",
      "     in Celsius: range = 15.133035286296092 15.353958951133563\n",
      "\n",
      "Perun cold case (beta=0 orbit) Sphere, Temperature Extremes\n",
      "-------------------------------------------------------\n",
      "Q (sun, alb, IR, diss): 22.29932700957632 5.02093006415494 5.264617875907678 3.4150321342164074\n",
      "Qsun= 30.535855669109093  Qeclipse= 8.679650010124085\n",
      "Hot Eq. Temp: 287.85K = 14.70℃\n",
      "Cold Eq. Temp: 210.18K = -62.97℃\n",
      "doOneCase: temp. range = 258.39266406307144 273.82201491081094\n",
      "     in Celsius: range = -14.757335936928541 0.6720149108109581\n",
      "pero2 96.0 96.0\n"
     ]
    }
   ],
   "source": [
    "## hot and cold cases for Perun\n",
    "t1 = 'Perun hot case (beta=90 orbit)'  \n",
    "t2 = 'Perun cold case (beta=0 orbit)'  \n",
    "\n",
    "# default randomized orientations\n",
    "hotPerun['etaS'] = 0.21 \n",
    "hotPerun['etaE'] = 0.36\n",
    "coldPerun['etaS'] = 0.21 \n",
    "coldPerun['etaE'] = 0.36\n",
    "\n",
    "verbose = True\n",
    "time, Temps1 = s.doOneCase(t1, alphaPerun, epsPerun, hotPerun, verbose)  \n",
    "time, Temps2 = s.doOneCase(t2, alphaPerun, epsPerun, coldPerun, verbose)  \n",
    "\n",
    "name = 'Perun-hotVScold'\n",
    "s.TempsPlot(time, Temps2, t2, Temps1, t1, \"\", \"\", name)"
   ]
  },
  {
   "cell_type": "code",
   "execution_count": 46,
   "metadata": {},
   "outputs": [
    {
     "name": "stdout",
     "output_type": "stream",
     "text": [
      "\n",
      "Perun hot case, extreme A Sphere, Temperature Extremes\n",
      "-------------------------------------------------------\n",
      "Q (sun, alb, IR, diss): 35.40807338218224 0.772362190972758 6.567477855298972 7.236087114630999\n",
      "Qsun= 42.74791342845397  Qeclipse= 13.803564969929973\n",
      "Hot Eq. Temp: 313.10K = 39.95℃\n",
      "Cold Eq. Temp: 236.02K = -37.13℃\n",
      "adjusting Tmax= 313.1387002052795 to: Thot= 313.1022444907002\n",
      "doOneCase: temp. range = 312.35975890037133 312.78914224620945\n",
      "     in Celsius: range = 39.209758900371355 39.639142246209474\n",
      "\n",
      "Perun cold case, extreme A Sphere, Temperature Extremes\n",
      "-------------------------------------------------------\n",
      "Q (sun, alb, IR, diss): 10.618727147417296 4.741989505035221 4.972139105023919 1.9200895815565646\n",
      "Qsun= 19.1808020085425  Qeclipse= 6.892228686580483\n",
      "Hot Eq. Temp: 256.26K = -16.89℃\n",
      "Cold Eq. Temp: 198.40K = -74.75℃\n",
      "doOneCase: temp. range = 235.13620521861282 243.86043524106165\n",
      "     in Celsius: range = -38.01379478138716 -29.289564758938326\n",
      "pero2 96.0 96.0\n"
     ]
    }
   ],
   "source": [
    "## hot and cold cases for Perun - extreme cases \n",
    "t1 = 'Perun hot case, extreme A'  \n",
    "t2 = 'Perun cold case, extreme A'  \n",
    "\n",
    "hotPerun['etaS'] = 0.31 \n",
    "hotPerun['etaE'] = 0.38\n",
    "coldPerun['etaS'] = 0.10\n",
    "coldPerun['etaE'] = 0.34\n",
    "\n",
    "verbose = True\n",
    "time, Temps1 = s.doOneCase(t1, alphaPerun, epsPerun, hotPerun, verbose)  \n",
    "time, Temps2 = s.doOneCase(t2, alphaPerun, epsPerun, coldPerun, verbose)  \n",
    "\n",
    "name = 'Perun-hotVScoldExtremeA'\n",
    "s.TempsPlot(time, Temps2, t2, Temps1, t1, \"\", \"\", name)"
   ]
  },
  {
   "cell_type": "code",
   "execution_count": 14,
   "metadata": {},
   "outputs": [
    {
     "name": "stdout",
     "output_type": "stream",
     "text": [
      "\n",
      "SOC-i cold case Sphere, Temperature Extremes\n",
      "-------------------------------------------------------\n",
      "Q (sun, alb, IR, diss): 23.056341000000007 5.191379795748719 5.319730560305015 3.530965099468591\n",
      "Qsun= 31.44887229637259  Qeclipse= 8.850695659773606\n",
      "Hot Eq. Temp: 289.22K = 16.07℃\n",
      "Cold Eq. Temp: 210.65K = -62.50℃\n",
      "doOneCase: temp. range = 258.98122604261715 274.44572157726554\n",
      "     in Celsius: range = -14.168773957382825 1.2957215772655672\n",
      "Active control range: -7.029643321464789 6.401408390095526\n",
      "\n",
      "SOC-i cold case Sphere, Temperature Extremes\n",
      "-------------------------------------------------------\n",
      "Q (sun, alb, IR, diss): 23.056341000000007 5.191379795748719 5.319730560305015 3.530965099468591\n",
      "Qsun= 31.44887229637259  Qeclipse= 8.850695659773606\n",
      "Hot Eq. Temp: 289.22K = 16.07℃\n",
      "Cold Eq. Temp: 210.65K = -62.50℃\n",
      "doOneCase: temp. range = 258.98122604261715 274.44572157726554\n",
      "     in Celsius: range = -14.168773957382825 1.2957215772655672\n",
      "Active control range: -10.073203396790575 4.477408632323204\n",
      "\n",
      "SOC-i cold case Sphere, Temperature Extremes\n",
      "-------------------------------------------------------\n",
      "Q (sun, alb, IR, diss): 23.056341000000007 5.191379795748719 5.319730560305015 3.530965099468591\n",
      "Qsun= 31.44887229637259  Qeclipse= 8.850695659773606\n",
      "Hot Eq. Temp: 289.22K = 16.07℃\n",
      "Cold Eq. Temp: 210.65K = -62.50℃\n",
      "doOneCase: temp. range = 258.98122604261715 274.44572157726554\n",
      "     in Celsius: range = -14.168773957382825 1.2957215772655672\n",
      "Active control range: -3.544516602242709 7.702069244726545\n",
      "\n",
      "SOC-i cold case, extreme A Sphere, Temperature Extremes\n",
      "-------------------------------------------------------\n",
      "Q (sun, alb, IR, diss): 10.979210000000004 4.902969807096012 5.024189973621403 1.985272475887002\n",
      "Qsun= 19.71520629518522  Qeclipse= 7.009462449508405\n",
      "Hot Eq. Temp: 257.35K = -15.80℃\n",
      "Cold Eq. Temp: 198.72K = -74.43℃\n",
      "doOneCase: temp. range = 235.51581095675334 244.2541254447327\n",
      "     in Celsius: range = -37.634189043246636 -28.895874555267284\n",
      "Active control range: -19.458280465330887 -10.997055307313929\n"
     ]
    }
   ],
   "source": [
    "## extra heat on\n",
    "t1 = 'SOC-i cold case'  \n",
    "coldSOCi['etaS'] = 0.21 \n",
    "coldSOCi['etaE'] = 0.36\n",
    "Tcritical = 273.15\n",
    "Pcritical = 5.0 \n",
    "label = 'Extra 5 W when T$<$273 K'\n",
    "name = 'SOCi-cold-heated5'\n",
    "\n",
    "# analytic\n",
    "timeA, TempsA = s.doOneCase(t1, alphaSOCi, epsSOCi, coldSOCi, verbose)   \n",
    "# numerical test \n",
    "timeN, TempsN = s.getNumSolution(coldSOCi, 1.01*TempsA[0], Tcritical, Pcritical)\n",
    "# plot\n",
    "s.TempsPlotCompare(timeA, TempsA, timeN, TempsN, t1, label, name) \n",
    "print('Active control range:', np.min(TempsN-273.15), np.max(TempsN-273.15))\n",
    "\n",
    "\n",
    "\n",
    "## extra heat on\n",
    "t2 = 'SOC-i cold case'  \n",
    "coldSOCi['etaS'] = 0.21 \n",
    "coldSOCi['etaE'] = 0.36\n",
    "Tcritical = 273.15\n",
    "Pcritical = 2.0 \n",
    "label = 'Extra 2 W when T$<$273 K'\n",
    "name = 'SOCi-cold-heated2'\n",
    "\n",
    "# analytic\n",
    "timeA, TempsA = s.doOneCase(t2, alphaSOCi, epsSOCi, coldSOCi, verbose)   \n",
    "# numerical test \n",
    "timeN, TempsN = s.getNumSolution(coldSOCi, 1.01*TempsA[0], Tcritical, Pcritical)\n",
    "# plot\n",
    "s.TempsPlotCompare(timeA, TempsA, timeN, TempsN, t2, label, name) \n",
    "print('Active control range:', np.min(TempsN-273.15), np.max(TempsN-273.15))\n",
    "\n",
    "\n",
    "## extra heat on\n",
    "t3 = 'SOC-i cold case'  \n",
    "coldSOCi['etaS'] = 0.21 \n",
    "coldSOCi['etaE'] = 0.36\n",
    "Tcritical = 273.15\n",
    "Pcritical = 10.0 \n",
    "label = 'Extra 10 W when T$<$273 K'\n",
    "name = 'SOCi-cold-heated10'\n",
    "\n",
    "# analytic\n",
    "timeA, TempsA = s.doOneCase(t3, alphaSOCi, epsSOCi, coldSOCi, verbose)   \n",
    "# numerical test \n",
    "timeN, TempsN = s.getNumSolution(coldSOCi, 1.01*TempsA[0], Tcritical, Pcritical)\n",
    "# plot\n",
    "s.TempsPlotCompare(timeA, TempsA, timeN, TempsN, t3, label, name) \n",
    "print('Active control range:', np.min(TempsN-273.15), np.max(TempsN-273.15))\n",
    "\n",
    "\n",
    "\n",
    "t4 = 'SOC-i cold case, extreme A'  \n",
    "coldSOCi['etaS'] = 0.10\n",
    "coldSOCi['etaE'] = 0.34\n",
    "Tcritical = 273.15\n",
    "Pcritical = 5.0 \n",
    "label = 'Extra 5 W when T$<$273 K'\n",
    "name = 'SOCi-cold-extrA-heated5'\n",
    "\n",
    "# analytic\n",
    "timeA, TempsA = s.doOneCase(t4, alphaSOCi, epsSOCi, coldSOCi, verbose)   \n",
    "# numerical test \n",
    "timeN, TempsN = s.getNumSolution(coldSOCi, 1.01*TempsA[0], Tcritical, Pcritical)\n",
    "# plot\n",
    "s.TempsPlotCompare(timeA, TempsA, timeN, TempsN, t4, label, name) \n",
    "print('Active control range:', np.min(TempsN-273.15), np.max(TempsN-273.15))"
   ]
  },
  {
   "cell_type": "code",
   "execution_count": 47,
   "metadata": {},
   "outputs": [
    {
     "data": {
      "text/plain": [
       "{'Fsun': 1322,\n",
       " 'FIR': 220,\n",
       " 'rhoE': 0.25,\n",
       " 'h': 550.0,\n",
       " 'PorbMin': 96,\n",
       " 'etaP': 0.375,\n",
       " 'falb': 0.62,\n",
       " 'fE': 0.8473786384498566,\n",
       " 'Atot': 0.1,\n",
       " 'etaS': 0.1,\n",
       " 'etaE': 0.34,\n",
       " 'alphaS': 0.8032320081253627,\n",
       " 'epsT': 0.7844480013058618,\n",
       " 'alphaIR': 0.7844480013058618,\n",
       " 'mass': 2.684,\n",
       " 'C': 721.0,\n",
       " 'etaCell': 0.2}"
      ]
     },
     "execution_count": 47,
     "metadata": {},
     "output_type": "execute_result"
    }
   ],
   "source": [
    "coldPerun"
   ]
  },
  {
   "cell_type": "code",
   "execution_count": 48,
   "metadata": {},
   "outputs": [
    {
     "data": {
      "text/plain": [
       "{'Fsun': 1372,\n",
       " 'FIR': 240,\n",
       " 'rhoE': 0.3,\n",
       " 'h': 550.0,\n",
       " 'PorbMin': 96,\n",
       " 'etaP': 0.375,\n",
       " 'falb': 0.62,\n",
       " 'fE': 0.8473786384498566,\n",
       " 'Atot': 0.1,\n",
       " 'etaS': 0.21,\n",
       " 'etaE': 0.36,\n",
       " 'alphaS': 0.8032320081253627,\n",
       " 'epsT': 0.7844480013058618,\n",
       " 'alphaIR': 0.7844480013058618,\n",
       " 'mass': 2.684,\n",
       " 'C': 721.0,\n",
       " 'etaCell': 0.2}"
      ]
     },
     "execution_count": 48,
     "metadata": {},
     "output_type": "execute_result"
    }
   ],
   "source": [
    "Perun"
   ]
  },
  {
   "cell_type": "code",
   "execution_count": 49,
   "metadata": {},
   "outputs": [
    {
     "data": {
      "text/plain": [
       "{'Fsun': 1422,\n",
       " 'FIR': 260,\n",
       " 'rhoE': 0.35,\n",
       " 'h': 550.0,\n",
       " 'PorbMin': 96,\n",
       " 'etaP': 0.0,\n",
       " 'falb': 0.06,\n",
       " 'fE': 0.8473786384498566,\n",
       " 'Atot': 0.1,\n",
       " 'etaS': 0.31,\n",
       " 'etaE': 0.38,\n",
       " 'alphaS': 0.8032320081253627,\n",
       " 'epsT': 0.7844480013058618,\n",
       " 'alphaIR': 0.7844480013058618,\n",
       " 'mass': 2.684,\n",
       " 'C': 721.0,\n",
       " 'etaCell': 0.2}"
      ]
     },
     "execution_count": 49,
     "metadata": {},
     "output_type": "execute_result"
    }
   ],
   "source": [
    "hotPerun"
   ]
  },
  {
   "cell_type": "code",
   "execution_count": 50,
   "metadata": {},
   "outputs": [
    {
     "name": "stdout",
     "output_type": "stream",
     "text": [
      "1142.1959155542656 20.32532081507258 172.82836461313087 0.0\n"
     ]
    },
    {
     "data": {
      "text/plain": [
       "(1335.349600982469, 172.82836461313087)"
      ]
     },
     "execution_count": 50,
     "metadata": {},
     "output_type": "execute_result"
    }
   ],
   "source": [
    "hotPerun['Atot'] = 1.0\n",
    "hotPerun['etaS'] = 1.0\n",
    "hotPerun['etaE'] = 1.0\n",
    "hotPerun['etaCell'] = 0.0\n",
    "Qsun2, Qref2, QIR2, Qdissip2 = s.getAllHeatQ(hotPerun)\n",
    "print(Qsun2, Qref2, QIR2, Qdissip2)\n",
    "QinSun, QinEclipse = s.getQin(hotPerun)\n",
    "QinSun, QinEclipse"
   ]
  },
  {
   "cell_type": "code",
   "execution_count": 51,
   "metadata": {},
   "outputs": [
    {
     "name": "stdout",
     "output_type": "stream",
     "text": [
      "1061.8727147417294 139.47027955985945 146.23938544187996 0.0\n"
     ]
    },
    {
     "data": {
      "text/plain": [
       "(1347.5823797434687, 146.23938544187996)"
      ]
     },
     "execution_count": 51,
     "metadata": {},
     "output_type": "execute_result"
    }
   ],
   "source": [
    "coldPerun['Atot'] = 1.0\n",
    "coldPerun['etaS'] = 1.0\n",
    "coldPerun['etaE'] = 1.0\n",
    "coldPerun['etaCell'] = 0.0\n",
    "Qsun2, Qref2, QIR2, Qdissip2 = s.getAllHeatQ(coldPerun)\n",
    "print(Qsun2, Qref2, QIR2, Qdissip2)\n",
    "QinSun, QinEclipse = s.getQin(coldPerun)\n",
    "QinSun, QinEclipse"
   ]
  },
  {
   "cell_type": "code",
   "execution_count": 52,
   "metadata": {},
   "outputs": [
    {
     "data": {
      "text/plain": [
       "1.0763430725730443"
      ]
     },
     "execution_count": 52,
     "metadata": {},
     "output_type": "execute_result"
    }
   ],
   "source": [
    "1142        /1061      "
   ]
  },
  {
   "cell_type": "code",
   "execution_count": 53,
   "metadata": {},
   "outputs": [
    {
     "data": {
      "text/plain": [
       "0.14551971326164875"
      ]
     },
     "execution_count": 53,
     "metadata": {},
     "output_type": "execute_result"
    }
   ],
   "source": [
    "20.3        /    139.5 "
   ]
  },
  {
   "cell_type": "code",
   "execution_count": 70,
   "metadata": {},
   "outputs": [
    {
     "name": "stdout",
     "output_type": "stream",
     "text": [
      "0.8032320081253627 0.7844480013058618 0.6766490133488102 0.5968339197620429\n"
     ]
    }
   ],
   "source": [
    "### show the effect of placing copper foil on exposed Al frame \n",
    "Perun0 = getInputParamsPerun(Perun=\"\", case = 0)\n",
    "coldPerun = s.getInputParamsCold(getInputParamsPerun())  \n",
    "alphaPerun0 = Perun0['alphaS']\n",
    "epsPerun0 = Perun0['epsT']\n",
    "PerunCu = getInputParamsPerun(Perun=\"\", case = 1)\n",
    "alphaPerunCu = PerunCu['alphaS']\n",
    "epsPerunCu = PerunCu['epsT']\n",
    "print(alphaPerun0, epsPerun0, alphaPerunCu, epsPerunCu) "
   ]
  },
  {
   "cell_type": "code",
   "execution_count": 72,
   "metadata": {},
   "outputs": [
    {
     "name": "stdout",
     "output_type": "stream",
     "text": [
      "\n",
      "Perun cold case, Cu over Al Sphere, Temperature Extremes\n",
      "-------------------------------------------------------\n",
      "Q (sun, alb, IR, diss): 22.29932700957632 5.02093006415494 5.264617875907678 3.4150321342164074\n",
      "Qsun= 30.535855669109093  Qeclipse= 8.679650010124085\n",
      "Hot Eq. Temp: 287.85K = 14.70℃\n",
      "Cold Eq. Temp: 210.18K = -62.97℃\n",
      "doOneCase: temp. range = 258.39266406307144 273.82201491081094\n",
      "     in Celsius: range = -14.757335936928541 0.6720149108109581\n",
      "\n",
      "Perun cold case, Cu over Al Sphere, Temperature Extremes\n",
      "-------------------------------------------------------\n",
      "Q (sun, alb, IR, diss): 18.78512990858967 4.229671302483225 4.0054949693245145 2.876850151384112\n",
      "Qsun= 25.294186089566942  Qeclipse= 6.882345120708626\n",
      "Hot Eq. Temp: 294.03K = 20.88℃\n",
      "Cold Eq. Temp: 212.36K = -60.79℃\n",
      "doOneCase: temp. range = 264.01148992881076 277.08824833788464\n",
      "     in Celsius: range = -9.138510071189216 3.9382483378846587\n",
      "pero2 96.0 96.0\n"
     ]
    }
   ],
   "source": [
    "## hot and cold cases for Perun\n",
    "t1 = 'Perun cold case, default'  \n",
    "t2 = 'Perun cold case, Cu over Al'  \n",
    "\n",
    "# default randomized orientations\n",
    "coldPerun['etaS'] = 0.21 \n",
    "coldPerun['etaE'] = 0.36\n",
    "\n",
    "verbose = True\n",
    "time, Temps1 = s.doOneCase(t2, alphaPerun0, epsPerun0, coldPerun, verbose)  \n",
    "time, Temps2 = s.doOneCase(t2, alphaPerunCu, epsPerunCu, coldPerun, verbose)  \n",
    "\n",
    "name = 'Perun-hotVScold-Cu'\n",
    "s.TempsPlot(time, Temps1, t1, Temps2, t2, \"\", \"\", name)"
   ]
  },
  {
   "cell_type": "code",
   "execution_count": null,
   "metadata": {},
   "outputs": [],
   "source": []
  }
 ],
 "metadata": {
  "kernelspec": {
   "display_name": "Python 3",
   "language": "python",
   "name": "python3"
  },
  "language_info": {
   "codemirror_mode": {
    "name": "ipython",
    "version": 3
   },
   "file_extension": ".py",
   "mimetype": "text/x-python",
   "name": "python",
   "nbconvert_exporter": "python",
   "pygments_lexer": "ipython3",
   "version": "3.7.4"
  }
 },
 "nbformat": 4,
 "nbformat_minor": 2
}
